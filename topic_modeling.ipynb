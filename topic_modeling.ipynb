{
 "cells": [
  {
   "cell_type": "code",
   "execution_count": 7,
   "metadata": {
    "collapsed": true
   },
   "outputs": [],
   "source": [
    "import pandas as pd\n",
    "import numpy as np\n",
    "import json\n",
    "from stop_words import get_stop_words\n",
    "import nltk\n",
    "from pymystem3 import Mystem\n",
    "import re\n",
    "import os"
   ]
  },
  {
   "cell_type": "code",
   "execution_count": 2,
   "metadata": {
    "collapsed": true
   },
   "outputs": [],
   "source": [
    "import warnings\n",
    "import warnings\n",
    "warnings.filterwarnings('ignore', category=Warning)"
   ]
  },
  {
   "cell_type": "code",
   "execution_count": 4,
   "metadata": {
    "collapsed": true
   },
   "outputs": [],
   "source": [
    "random_seed = 42"
   ]
  },
  {
   "cell_type": "code",
   "execution_count": 5,
   "metadata": {
    "collapsed": true
   },
   "outputs": [],
   "source": [
    "stop_words = get_stop_words('ru')\n",
    "for word in ['свой', '&lt;', '«', '–', '-', '(', ')', '»', 'lt', '', \n",
    "             'из-за', 'gt', 'какой-то', 'д', 'name', 'ого', 'ом']:\n",
    "    stop_words.append(word)"
   ]
  },
  {
   "cell_type": "code",
   "execution_count": 8,
   "metadata": {},
   "outputs": [],
   "source": [
    "lemma_texts_fl_start = []\n",
    "\n",
    "for d, dirs, files in os.walk('fl/start_lemma/'):\n",
    "    for filename in files:\n",
    "        lemma_texts_fl_start.append(open('fl/start_lemma/' + filename, 'r', encoding='utf-8').read())        "
   ]
  },
  {
   "cell_type": "code",
   "execution_count": 16,
   "metadata": {
    "collapsed": true
   },
   "outputs": [],
   "source": [
    "lemma_texts_fl_end = []\n",
    "\n",
    "for d, dirs, files in os.walk('fl/end_lemma/'):\n",
    "    for filename in files:\n",
    "        lemma_texts_fl_end.append(open('fl/end_lemma/' + filename, 'r', encoding='utf-8').read())        "
   ]
  },
  {
   "cell_type": "code",
   "execution_count": 17,
   "metadata": {
    "collapsed": true
   },
   "outputs": [],
   "source": [
    "lemma_texts_hl_start = []\n",
    "\n",
    "for d, dirs, files in os.walk('hl/start_lemma/'):\n",
    "    for filename in files:\n",
    "        lemma_texts_hl_start.append(open('hl/start_lemma/' + filename, 'r', encoding='utf-8').read())        "
   ]
  },
  {
   "cell_type": "code",
   "execution_count": 18,
   "metadata": {
    "collapsed": true
   },
   "outputs": [],
   "source": [
    "lemma_texts_hl_end = []\n",
    "\n",
    "for d, dirs, files in os.walk('hl/end_lemma/'):\n",
    "    for filename in files:\n",
    "        lemma_texts_hl_end.append(open('hl/end_lemma/' + filename, 'r', encoding='utf-8').read())        "
   ]
  },
  {
   "cell_type": "code",
   "execution_count": 22,
   "metadata": {
    "collapsed": true
   },
   "outputs": [],
   "source": [
    "from sklearn.feature_extraction.text import TfidfVectorizer\n",
    "from sklearn.decomposition import NMF"
   ]
  },
  {
   "cell_type": "markdown",
   "metadata": {},
   "source": [
    "# L2 2009"
   ]
  },
  {
   "cell_type": "code",
   "execution_count": 30,
   "metadata": {
    "collapsed": true
   },
   "outputs": [],
   "source": [
    "no_topics = 5\n",
    "no_top_words = 20"
   ]
  },
  {
   "cell_type": "code",
   "execution_count": 36,
   "metadata": {
    "collapsed": true
   },
   "outputs": [],
   "source": [
    "def display_topics(texts):\n",
    "    \n",
    "    tfidf_vectorizer = TfidfVectorizer(max_df=0.95, min_df=2, stop_words=stop_words)\n",
    "    tfidf = tfidf_vectorizer.fit_transform(texts)\n",
    "    tfidf_feature_names = tfidf_vectorizer.get_feature_names()\n",
    "    \n",
    "    nmf = NMF(n_components=no_topics, random_state=random_seed, alpha=.1, l1_ratio=.5, init='nndsvd').fit(tfidf)\n",
    "    \n",
    "    for topic_idx, topic in enumerate(nmf.components_):\n",
    "        print(\"Topic %d:\" % (topic_idx))\n",
    "        print(\" \".join([tfidf_feature_names[i] for i in topic.argsort()[:-no_top_words - 1:-1]]))"
   ]
  },
  {
   "cell_type": "code",
   "execution_count": 37,
   "metadata": {},
   "outputs": [
    {
     "name": "stdout",
     "output_type": "stream",
     "text": [
      "Topic 0:\n",
      "язык русский слово изменение распад советский новый видеть английский являться увеличиваться технология ощущать союз влиять страна развиваться технологический звук культура\n",
      "Topic 1:\n",
      "европа россия часть культура думать европейский далже чатя исскуство русский отличать религия культурный считать взять находиться азиатский азия многий европеец\n",
      "Topic 2:\n",
      "крестьянин крепостной право реформа хлеб землевладелец обычный еда рабочий капуста блюдо квас картофель лук россия век отличаться земля купить отбывать\n",
      "Topic 3:\n",
      "школа образование система университет мода россия студент советский тема ссср союз интервью место врач поступать говорить разный этикет медицина экзамен\n",
      "Topic 4:\n",
      "производить модель рынок основной проблема потребность механизм регулирование рыночный командный обсуждать товар экономический государственный припой столько максимальный удовлетворение государство основывать\n"
     ]
    }
   ],
   "source": [
    "display_topics(lemma_texts_fl_start)"
   ]
  },
  {
   "cell_type": "markdown",
   "metadata": {},
   "source": [
    "# L2 2012"
   ]
  },
  {
   "cell_type": "code",
   "execution_count": 38,
   "metadata": {},
   "outputs": [
    {
     "name": "stdout",
     "output_type": "stream",
     "text": [
      "Topic 0:\n",
      "россия страна европа русский европейский культура декабрист война язык западный азия самый вопрос азиатский советский жить развитие мнение говорить политический\n",
      "Topic 1:\n",
      "вода использовать планета пресный счетчик океан глава галлон пить питьевой земля подземный мыть ребенок расход соленый облако потребление круговорот атмосфера\n",
      "Topic 2:\n",
      "успех автор статья понятие текст часть слово индивидуальный цель вопрос тема мнение читатель идентичность успешный идея ценность понимать общечеловеческий способность\n",
      "Topic 3:\n",
      "сленг студенческий термин слово профессионализм профессиональный жаргон текст группа студент диалект новый язык особенность абзац отражать предмет сфера название факультет\n",
      "Topic 4:\n",
      "университет факультет образование студент исследовательский санкт знание высокий преподаватель исследование лектор массовый экономика модель программа связь специальность петербургский преподавание филологический\n"
     ]
    }
   ],
   "source": [
    "display_topics(lemma_texts_fl_end)"
   ]
  },
  {
   "cell_type": "markdown",
   "metadata": {},
   "source": [
    "# HL 2009"
   ]
  },
  {
   "cell_type": "code",
   "execution_count": 39,
   "metadata": {},
   "outputs": [
    {
     "name": "stdout",
     "output_type": "stream",
     "text": [
      "Topic 0:\n",
      "россия страна культура глобализация геополитика развитие европа наука ссср образование мода экономика общество проблема слово язык процесс советский школа мир\n",
      "Topic 1:\n",
      "искусство художник произведение современный гельман выставка россия публика арт художественный ольга становиться зритель социальный нос синий проблема государственный искусствовед эра\n",
      "Topic 2:\n",
      "волна эмигрант эмиграция русский выезжать причина америка покидать семья эмигрировать голливуд война отношение особенность россия гг млн родина принадлежать роднить\n",
      "Topic 3:\n",
      "антибиотик пенициллин флеминг открытие бактерия война заболевание болезнетворный мировой лечение микроб молекула инфекционный вирус организм http александер микроорганизм благодаря оказываться\n",
      "Topic 4:\n",
      "байкал озеро гринпис вода экологический организация россия комбинат байкальский проблема природа сохранение планета бумажный отходы проект море уникальный наследие целлюлозно\n"
     ]
    }
   ],
   "source": [
    "display_topics(lemma_texts_hl_start)"
   ]
  },
  {
   "cell_type": "markdown",
   "metadata": {},
   "source": [
    "# HL 2012"
   ]
  },
  {
   "cell_type": "code",
   "execution_count": 40,
   "metadata": {},
   "outputs": [
    {
     "name": "stdout",
     "output_type": "stream",
     "text": [
      "Topic 0:\n",
      "россия русский инвалид страна молодежь америка канал американец здоровье существовать здоровый американский разница сша вопрос стереотип мнение будущее согласный образ\n",
      "Topic 1:\n",
      "город петербург санкт житель молодой история европейский современный прогрессивный характер столица москва древний любить женщина формировать красота старый музей культура\n",
      "Topic 2:\n",
      "университет образование дистанционный студент экономика получать страна проект работа программа рабочий факультет учиться развитие хороший исследование знание специалист исследовательский место\n",
      "Topic 3:\n",
      "слово свобода успех язык автор термин существовать текст иностранный профессия понятие ключевой сша использоваться социальный сленг использовать студенческий считать успешный\n",
      "Topic 4:\n",
      "национализм патриотизм страна глобализация чувство нация проявляться национальный народ любовь родина ненависть написать сближать общий видеть гордиться понимать государство понятие\n"
     ]
    }
   ],
   "source": [
    "display_topics(lemma_texts_hl_end)"
   ]
  }
 ],
 "metadata": {
  "kernelspec": {
   "display_name": "Python 3",
   "language": "python",
   "name": "python3"
  },
  "language_info": {
   "codemirror_mode": {
    "name": "ipython",
    "version": 3
   },
   "file_extension": ".py",
   "mimetype": "text/x-python",
   "name": "python",
   "nbconvert_exporter": "python",
   "pygments_lexer": "ipython3",
   "version": "3.6.3"
  }
 },
 "nbformat": 4,
 "nbformat_minor": 2
}
